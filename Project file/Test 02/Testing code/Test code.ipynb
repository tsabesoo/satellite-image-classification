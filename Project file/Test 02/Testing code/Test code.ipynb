{
 "cells": [
  {
   "cell_type": "code",
   "execution_count": 1,
   "metadata": {},
   "outputs": [],
   "source": [
    "import numpy as np\n",
    "import pickle\n",
    "\n",
    "# Assuming `labels` is a list or array of your labels\n",
    "labels = [\"AnnualCrop\", \"Forest\", \"HerbaceousVegetation\", \"Industrial\", \"Pasture\", \"PermanentCrop\", \"Residential\", \"River\", \"SeaLake\"]  # Replace with your actual labels\n",
    "\n",
    "label_to_index = {label: index for index, label in enumerate(np.unique(labels))}\n",
    "\n",
    "# Save the `label_to_index` dictionary to a file\n",
    "label_to_index_save_path = r\"C:\\\\Users\\\\thath\\\\OneDrive - University of Bradford\\\\Discipline-specific Artificial Intelligence Project\\\\Project file\\\\Test 02\\\\Testing code\\\\label_to_index.pkl\"\n",
    "with open(label_to_index_save_path, 'wb') as f:\n",
    "    pickle.dump(label_to_index, f)"
   ]
  },
  {
   "cell_type": "code",
   "execution_count": 2,
   "metadata": {},
   "outputs": [
    {
     "name": "stdout",
     "output_type": "stream",
     "text": [
      "\u001b[1m1/1\u001b[0m \u001b[32m━━━━━━━━━━━━━━━━━━━━\u001b[0m\u001b[37m\u001b[0m \u001b[1m1s\u001b[0m 1s/step\n",
      "Predicted label: PermanentCrop\n"
     ]
    }
   ],
   "source": [
    "import tensorflow as tf\n",
    "from tensorflow.keras.models import load_model\n",
    "from PIL import Image\n",
    "import numpy as np\n",
    "import pickle\n",
    "\n",
    "# Load the model\n",
    "model_save_path = r\"C:\\\\Users\\\\thath\\\\OneDrive - University of Bradford\\\\Discipline-specific Artificial Intelligence Project\\\\Project file\\\\Test 02\\\\model.keras\"\n",
    "model = load_model(model_save_path)\n",
    "\n",
    "# Load the label_to_index dictionary\n",
    "label_to_index_save_path = r\"C:\\Users\\thath\\OneDrive - University of Bradford\\Discipline-specific Artificial Intelligence Project\\\\Project file\\\\Test 02\\\\Testing code\\\\label_to_index.pkl\"\n",
    "with open(label_to_index_save_path, 'rb') as f:\n",
    "    label_to_index = pickle.load(f)\n",
    "\n",
    "# Preprocess the input image\n",
    "def preprocess_image(image_path):\n",
    "    img = Image.open(image_path)\n",
    "    img = img.resize((64, 64))  # Resize image to match the input size of the model\n",
    "    img_array = np.array(img) / 255.0  # Normalize image\n",
    "    img_array = np.expand_dims(img_array, axis=0)  # Add batch dimension\n",
    "    return img_array\n",
    "\n",
    "# Make predictions\n",
    "image_path = r\"c:\\\\Users\\\\thath\\\\OneDrive - University of Bradford\\\\Discipline-specific Artificial Intelligence Project\\Test sampel\\\\1_7ZXGUGfs-pUMwjbtzJNZMQ.jpg\"\n",
    "preprocessed_image = preprocess_image(image_path)\n",
    "predictions = model.predict(preprocessed_image)\n",
    "predicted_class = np.argmax(predictions, axis=1)\n",
    "\n",
    "# Decode predictions\n",
    "index_to_label = {index: label for label, index in label_to_index.items()}\n",
    "predicted_label = index_to_label[predicted_class[0]]\n",
    "print(f\"Predicted label: {predicted_label}\")"
   ]
  }
 ],
 "metadata": {
  "kernelspec": {
   "display_name": "Land_Class",
   "language": "python",
   "name": "python3"
  },
  "language_info": {
   "codemirror_mode": {
    "name": "ipython",
    "version": 3
   },
   "file_extension": ".py",
   "mimetype": "text/x-python",
   "name": "python",
   "nbconvert_exporter": "python",
   "pygments_lexer": "ipython3",
   "version": "3.11.11"
  }
 },
 "nbformat": 4,
 "nbformat_minor": 2
}
